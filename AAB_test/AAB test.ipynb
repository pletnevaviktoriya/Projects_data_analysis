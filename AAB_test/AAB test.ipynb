{
 "cells": [
  {
   "cell_type": "markdown",
   "metadata": {},
   "source": [
    "# Анализ A/A/B-эксперимента"
   ]
  },
  {
   "cell_type": "markdown",
   "metadata": {},
   "source": [
    "Мы работаем в стартапе, который продаёт продукты питания. Нужно разобраться, как ведут себя пользователи мобильного приложения. <br>\n",
    "Изучим воронку продаж. Узнаем, как пользователи доходят до покупки. Сколько пользователей доходит до покупки, а сколько — «застревает» на предыдущих шагах. <br>\n",
    "Исследуем результаты A/A/B-эксперимента. Дизайнеры захотели поменять шрифты во всём приложении, а менеджеры испугались, что пользователям будет непривычно. Договорились принять решение по результатам A/A/B-теста. Пользователей разбили на 3 группы: 2 контрольные со старыми шрифтами и одну экспериментальную — с новыми. Выясним, какой шрифт лучше."
   ]
  },
  {
   "cell_type": "markdown",
   "metadata": {},
   "source": [
    "## Изучение общей информации, подготовка данных к анализу"
   ]
  },
  {
   "cell_type": "code",
   "execution_count": 1,
   "metadata": {},
   "outputs": [],
   "source": [
    "import numpy as np\n",
    "import pandas as pd\n",
    "import matplotlib.pyplot as plt\n",
    "import seaborn as sns\n",
    "from scipy import stats as st\n",
    "from statsmodels.stats.proportion import proportions_ztest\n",
    "from pandas.plotting import register_matplotlib_converters\n",
    "\n",
    "import warnings\n",
    "warnings.filterwarnings('ignore')"
   ]
  },
  {
   "cell_type": "code",
   "execution_count": 2,
   "metadata": {},
   "outputs": [],
   "source": [
    "logs = pd.read_csv('/datasets/logs_exp.csv', sep = '\\t')"
   ]
  },
  {
   "cell_type": "code",
   "execution_count": 3,
   "metadata": {},
   "outputs": [
    {
     "data": {
      "text/html": [
       "<div>\n",
       "<style scoped>\n",
       "    .dataframe tbody tr th:only-of-type {\n",
       "        vertical-align: middle;\n",
       "    }\n",
       "\n",
       "    .dataframe tbody tr th {\n",
       "        vertical-align: top;\n",
       "    }\n",
       "\n",
       "    .dataframe thead th {\n",
       "        text-align: right;\n",
       "    }\n",
       "</style>\n",
       "<table border=\"1\" class=\"dataframe\">\n",
       "  <thead>\n",
       "    <tr style=\"text-align: right;\">\n",
       "      <th></th>\n",
       "      <th>EventName</th>\n",
       "      <th>DeviceIDHash</th>\n",
       "      <th>EventTimestamp</th>\n",
       "      <th>ExpId</th>\n",
       "    </tr>\n",
       "  </thead>\n",
       "  <tbody>\n",
       "    <tr>\n",
       "      <td>0</td>\n",
       "      <td>MainScreenAppear</td>\n",
       "      <td>4575588528974610257</td>\n",
       "      <td>1564029816</td>\n",
       "      <td>246</td>\n",
       "    </tr>\n",
       "    <tr>\n",
       "      <td>1</td>\n",
       "      <td>MainScreenAppear</td>\n",
       "      <td>7416695313311560658</td>\n",
       "      <td>1564053102</td>\n",
       "      <td>246</td>\n",
       "    </tr>\n",
       "    <tr>\n",
       "      <td>2</td>\n",
       "      <td>PaymentScreenSuccessful</td>\n",
       "      <td>3518123091307005509</td>\n",
       "      <td>1564054127</td>\n",
       "      <td>248</td>\n",
       "    </tr>\n",
       "    <tr>\n",
       "      <td>3</td>\n",
       "      <td>CartScreenAppear</td>\n",
       "      <td>3518123091307005509</td>\n",
       "      <td>1564054127</td>\n",
       "      <td>248</td>\n",
       "    </tr>\n",
       "    <tr>\n",
       "      <td>4</td>\n",
       "      <td>PaymentScreenSuccessful</td>\n",
       "      <td>6217807653094995999</td>\n",
       "      <td>1564055322</td>\n",
       "      <td>248</td>\n",
       "    </tr>\n",
       "  </tbody>\n",
       "</table>\n",
       "</div>"
      ],
      "text/plain": [
       "                 EventName         DeviceIDHash  EventTimestamp  ExpId\n",
       "0         MainScreenAppear  4575588528974610257      1564029816    246\n",
       "1         MainScreenAppear  7416695313311560658      1564053102    246\n",
       "2  PaymentScreenSuccessful  3518123091307005509      1564054127    248\n",
       "3         CartScreenAppear  3518123091307005509      1564054127    248\n",
       "4  PaymentScreenSuccessful  6217807653094995999      1564055322    248"
      ]
     },
     "execution_count": 3,
     "metadata": {},
     "output_type": "execute_result"
    }
   ],
   "source": [
    "logs.head()"
   ]
  },
  {
   "cell_type": "code",
   "execution_count": 4,
   "metadata": {},
   "outputs": [
    {
     "name": "stdout",
     "output_type": "stream",
     "text": [
      "<class 'pandas.core.frame.DataFrame'>\n",
      "RangeIndex: 244126 entries, 0 to 244125\n",
      "Data columns (total 4 columns):\n",
      "EventName         244126 non-null object\n",
      "DeviceIDHash      244126 non-null int64\n",
      "EventTimestamp    244126 non-null int64\n",
      "ExpId             244126 non-null int64\n",
      "dtypes: int64(3), object(1)\n",
      "memory usage: 7.5+ MB\n"
     ]
    }
   ],
   "source": [
    "logs.info()"
   ]
  },
  {
   "cell_type": "markdown",
   "metadata": {},
   "source": [
    "Каждая запись в логе — это действие пользователя, или событие."
   ]
  },
  {
   "cell_type": "markdown",
   "metadata": {},
   "source": [
    "## Подготовка данных"
   ]
  },
  {
   "cell_type": "code",
   "execution_count": 5,
   "metadata": {},
   "outputs": [],
   "source": [
    "logs.columns = ['event_name', 'user_id', 'event_time', 'exp_id']"
   ]
  },
  {
   "cell_type": "markdown",
   "metadata": {},
   "source": [
    " Данные содержат:\n",
    " - event_name — название события;\n",
    " - user_id — уникальный идентификатор пользователя;\n",
    " - event_time — время события;\n",
    " - exp_id — номер эксперимента: 246 и 247 — контрольные группы, а 248 — экспериментальная."
   ]
  },
  {
   "cell_type": "markdown",
   "metadata": {},
   "source": [
    "Посмотрим на пропуски в данных."
   ]
  },
  {
   "cell_type": "code",
   "execution_count": 6,
   "metadata": {},
   "outputs": [
    {
     "data": {
      "text/plain": [
       "event_name    0.0\n",
       "user_id       0.0\n",
       "event_time    0.0\n",
       "exp_id        0.0\n",
       "dtype: float64"
      ]
     },
     "execution_count": 6,
     "metadata": {},
     "output_type": "execute_result"
    }
   ],
   "source": [
    "(logs.isna().sum()/len(logs)) * 100"
   ]
  },
  {
   "cell_type": "markdown",
   "metadata": {},
   "source": [
    "Пропусков в данных нет."
   ]
  },
  {
   "cell_type": "markdown",
   "metadata": {},
   "source": [
    "Типы данных:\n",
    " - название события - тип данных object (текст),\n",
    " - уникальный идентификатор пользователя - целые числа (int64),\n",
    " - время события,\n",
    " - номер эксперимента - целые числа, с целью экономии памяти заменим на целые числа размером 2 байта"
   ]
  },
  {
   "cell_type": "code",
   "execution_count": 7,
   "metadata": {},
   "outputs": [],
   "source": [
    "logs['exp_id'] = logs['exp_id'].astype('int16')"
   ]
  },
  {
   "cell_type": "code",
   "execution_count": 8,
   "metadata": {},
   "outputs": [
    {
     "data": {
      "text/plain": [
       "413"
      ]
     },
     "execution_count": 8,
     "metadata": {},
     "output_type": "execute_result"
    }
   ],
   "source": [
    "# посмотрим на дубликаты\n",
    "logs.duplicated().sum()"
   ]
  },
  {
   "cell_type": "code",
   "execution_count": 9,
   "metadata": {},
   "outputs": [],
   "source": [
    "logs = logs.drop_duplicates()"
   ]
  },
  {
   "cell_type": "code",
   "execution_count": 10,
   "metadata": {},
   "outputs": [],
   "source": [
    "# добавим столбец даты и времени\n",
    "logs['date_time'] = pd.to_datetime(logs['event_time'], unit='s')"
   ]
  },
  {
   "cell_type": "code",
   "execution_count": 11,
   "metadata": {},
   "outputs": [],
   "source": [
    "# добавим столбец даты \n",
    "logs['date'] = logs['date_time'].dt.date\n",
    "logs['date'] = pd.to_datetime(logs['date'])"
   ]
  },
  {
   "cell_type": "code",
   "execution_count": 12,
   "metadata": {},
   "outputs": [
    {
     "name": "stdout",
     "output_type": "stream",
     "text": [
      "<class 'pandas.core.frame.DataFrame'>\n",
      "Int64Index: 243713 entries, 0 to 244125\n",
      "Data columns (total 6 columns):\n",
      "event_name    243713 non-null object\n",
      "user_id       243713 non-null int64\n",
      "event_time    243713 non-null int64\n",
      "exp_id        243713 non-null int16\n",
      "date_time     243713 non-null datetime64[ns]\n",
      "date          243713 non-null datetime64[ns]\n",
      "dtypes: datetime64[ns](2), int16(1), int64(2), object(1)\n",
      "memory usage: 11.6+ MB\n"
     ]
    }
   ],
   "source": [
    "logs.info()"
   ]
  },
  {
   "cell_type": "markdown",
   "metadata": {},
   "source": [
    "**Вывод**\n",
    "1. Положили данные о действиях пользователей в переменную.\n",
    "2. Заменили названия столбцов.\n",
    "3. Проверили пропуски и типы данных.\n",
    "4. Добавили столбцы даты и времени и отдельный столбец с датой."
   ]
  },
  {
   "cell_type": "markdown",
   "metadata": {},
   "source": [
    "## Изучение и проверка данных"
   ]
  },
  {
   "cell_type": "markdown",
   "metadata": {},
   "source": [
    "### Всего событий в логе"
   ]
  },
  {
   "cell_type": "code",
   "execution_count": 13,
   "metadata": {},
   "outputs": [
    {
     "data": {
      "text/plain": [
       "MainScreenAppear           119101\n",
       "OffersScreenAppear          46808\n",
       "CartScreenAppear            42668\n",
       "PaymentScreenSuccessful     34118\n",
       "Tutorial                     1018\n",
       "Name: event_name, dtype: int64"
      ]
     },
     "execution_count": 13,
     "metadata": {},
     "output_type": "execute_result"
    }
   ],
   "source": [
    "logs_value_counts = logs['event_name'].value_counts()\n",
    "logs_value_counts"
   ]
  },
  {
   "cell_type": "markdown",
   "metadata": {},
   "source": [
    "Всего 5 типов событий в логе:\n",
    " - MainScreenAppear - главный экран,\n",
    " - OffersScreenAppear - экран предложения,\n",
    " - CartScreenAppear - экран корзины, \n",
    " - PaymentScreenSuccessful - успешное завершение оплаты,\n",
    " - Tutorial - руководство"
   ]
  },
  {
   "cell_type": "code",
   "execution_count": 14,
   "metadata": {},
   "outputs": [
    {
     "name": "stdout",
     "output_type": "stream",
     "text": [
      "Общая сумма событий в логе: 243713\n"
     ]
    }
   ],
   "source": [
    "print('Общая сумма событий в логе: {:.0f}'.format(logs_value_counts.sum()))"
   ]
  },
  {
   "cell_type": "markdown",
   "metadata": {},
   "source": [
    "### Всего пользователей в логе"
   ]
  },
  {
   "cell_type": "code",
   "execution_count": 15,
   "metadata": {},
   "outputs": [
    {
     "name": "stdout",
     "output_type": "stream",
     "text": [
      "Всего пользователей в логе: 7551\n"
     ]
    }
   ],
   "source": [
    "print('Всего пользователей в логе: {:.0f}'.format(logs['user_id'].nunique()))"
   ]
  },
  {
   "cell_type": "markdown",
   "metadata": {},
   "source": [
    "### Среднее количество событий на пользователя"
   ]
  },
  {
   "cell_type": "code",
   "execution_count": 16,
   "metadata": {},
   "outputs": [
    {
     "data": {
      "text/plain": [
       "32"
      ]
     },
     "execution_count": 16,
     "metadata": {},
     "output_type": "execute_result"
    }
   ],
   "source": [
    "round(len(logs['event_name']) / logs['user_id'].nunique())"
   ]
  },
  {
   "cell_type": "code",
   "execution_count": 17,
   "metadata": {},
   "outputs": [
    {
     "data": {
      "text/html": [
       "<div>\n",
       "<style scoped>\n",
       "    .dataframe tbody tr th:only-of-type {\n",
       "        vertical-align: middle;\n",
       "    }\n",
       "\n",
       "    .dataframe tbody tr th {\n",
       "        vertical-align: top;\n",
       "    }\n",
       "\n",
       "    .dataframe thead th {\n",
       "        text-align: right;\n",
       "    }\n",
       "</style>\n",
       "<table border=\"1\" class=\"dataframe\">\n",
       "  <thead>\n",
       "    <tr style=\"text-align: right;\">\n",
       "      <th></th>\n",
       "      <th>event_name</th>\n",
       "      <th>user_id</th>\n",
       "      <th>event_time</th>\n",
       "      <th>exp_id</th>\n",
       "      <th>date_time</th>\n",
       "      <th>date</th>\n",
       "    </tr>\n",
       "  </thead>\n",
       "  <tbody>\n",
       "    <tr>\n",
       "      <td>0</td>\n",
       "      <td>MainScreenAppear</td>\n",
       "      <td>4575588528974610257</td>\n",
       "      <td>1564029816</td>\n",
       "      <td>246</td>\n",
       "      <td>2019-07-25 04:43:36</td>\n",
       "      <td>2019-07-25</td>\n",
       "    </tr>\n",
       "    <tr>\n",
       "      <td>1</td>\n",
       "      <td>MainScreenAppear</td>\n",
       "      <td>7416695313311560658</td>\n",
       "      <td>1564053102</td>\n",
       "      <td>246</td>\n",
       "      <td>2019-07-25 11:11:42</td>\n",
       "      <td>2019-07-25</td>\n",
       "    </tr>\n",
       "    <tr>\n",
       "      <td>2</td>\n",
       "      <td>PaymentScreenSuccessful</td>\n",
       "      <td>3518123091307005509</td>\n",
       "      <td>1564054127</td>\n",
       "      <td>248</td>\n",
       "      <td>2019-07-25 11:28:47</td>\n",
       "      <td>2019-07-25</td>\n",
       "    </tr>\n",
       "    <tr>\n",
       "      <td>3</td>\n",
       "      <td>CartScreenAppear</td>\n",
       "      <td>3518123091307005509</td>\n",
       "      <td>1564054127</td>\n",
       "      <td>248</td>\n",
       "      <td>2019-07-25 11:28:47</td>\n",
       "      <td>2019-07-25</td>\n",
       "    </tr>\n",
       "    <tr>\n",
       "      <td>4</td>\n",
       "      <td>PaymentScreenSuccessful</td>\n",
       "      <td>6217807653094995999</td>\n",
       "      <td>1564055322</td>\n",
       "      <td>248</td>\n",
       "      <td>2019-07-25 11:48:42</td>\n",
       "      <td>2019-07-25</td>\n",
       "    </tr>\n",
       "  </tbody>\n",
       "</table>\n",
       "</div>"
      ],
      "text/plain": [
       "                event_name              user_id  event_time  exp_id  \\\n",
       "0         MainScreenAppear  4575588528974610257  1564029816     246   \n",
       "1         MainScreenAppear  7416695313311560658  1564053102     246   \n",
       "2  PaymentScreenSuccessful  3518123091307005509  1564054127     248   \n",
       "3         CartScreenAppear  3518123091307005509  1564054127     248   \n",
       "4  PaymentScreenSuccessful  6217807653094995999  1564055322     248   \n",
       "\n",
       "            date_time       date  \n",
       "0 2019-07-25 04:43:36 2019-07-25  \n",
       "1 2019-07-25 11:11:42 2019-07-25  \n",
       "2 2019-07-25 11:28:47 2019-07-25  \n",
       "3 2019-07-25 11:28:47 2019-07-25  \n",
       "4 2019-07-25 11:48:42 2019-07-25  "
      ]
     },
     "execution_count": 17,
     "metadata": {},
     "output_type": "execute_result"
    }
   ],
   "source": [
    "logs.head()"
   ]
  },
  {
   "cell_type": "code",
   "execution_count": 18,
   "metadata": {},
   "outputs": [
    {
     "data": {
      "image/png": "[encoded data removed]",
      "text/plain": [
       "<Figure size 720x432 with 1 Axes>"
      ]
     },
     "metadata": {
      "needs_background": "light"
     },
     "output_type": "display_data"
    }
   ],
   "source": [
    "plt.figure(figsize=(10,6))\n",
    "ax = logs.groupby('user_id')['event_name'].count()\n",
    "sns.boxplot(x=ax, data = logs)\n",
    "plt.title('Количество событий на одного пользователя')\n",
    "plt.xlabel('Количество событий')\n",
    "plt.ylabel('Распределение по квартилям')\n",
    "plt.xlim(0,110)\n",
    "plt.show()"
   ]
  },
  {
   "cell_type": "code",
   "execution_count": 19,
   "metadata": {},
   "outputs": [
    {
     "data": {
      "text/plain": [
       "count    7551.000000\n",
       "mean       32.275593\n",
       "std        65.154219\n",
       "min         1.000000\n",
       "25%         9.000000\n",
       "50%        20.000000\n",
       "75%        37.000000\n",
       "max      2307.000000\n",
       "Name: event_name, dtype: float64"
      ]
     },
     "execution_count": 19,
     "metadata": {},
     "output_type": "execute_result"
    }
   ],
   "source": [
    "ax.describe()"
   ]
  },
  {
   "cell_type": "markdown",
   "metadata": {},
   "source": [
    " - Минимальное значение по выборке равно 1му событию на пользователя\n",
    " - Нижний квартиль - 25 % выборки находится в пределах 9 собыий \n",
    " - Медина делит выборку на 2 равные части и равна 20\n",
    " - Верхний квартиль равен 37"
   ]
  },
  {
   "cell_type": "code",
   "execution_count": 20,
   "metadata": {},
   "outputs": [
    {
     "data": {
      "text/plain": [
       "20.0"
      ]
     },
     "metadata": {},
     "output_type": "display_data"
    },
    {
     "data": {
      "text/plain": [
       "0    5\n",
       "dtype: int64"
      ]
     },
     "metadata": {},
     "output_type": "display_data"
    }
   ],
   "source": [
    "display(ax.median())\n",
    "display(ax.mode())"
   ]
  },
  {
   "cell_type": "markdown",
   "metadata": {},
   "source": [
    "В среднем на 1 пользователя приходится 32 события. Медианное количество событий на пользователя равно 20, модальное - 5."
   ]
  },
  {
   "cell_type": "markdown",
   "metadata": {},
   "source": [
    "### Период проведения эксперимента"
   ]
  },
  {
   "cell_type": "code",
   "execution_count": 21,
   "metadata": {},
   "outputs": [
    {
     "data": {
      "text/plain": [
       "Timestamp('2019-07-25 04:43:36')"
      ]
     },
     "execution_count": 21,
     "metadata": {},
     "output_type": "execute_result"
    }
   ],
   "source": [
    "logs['date_time'].min()"
   ]
  },
  {
   "cell_type": "code",
   "execution_count": 22,
   "metadata": {},
   "outputs": [
    {
     "data": {
      "text/plain": [
       "Timestamp('2019-08-07 21:15:17')"
      ]
     },
     "execution_count": 22,
     "metadata": {},
     "output_type": "execute_result"
    }
   ],
   "source": [
    "logs['date_time'].max()"
   ]
  },
  {
   "cell_type": "markdown",
   "metadata": {},
   "source": [
    "Эксперимент длился с 25.07.2019 по 07.08.2019."
   ]
  },
  {
   "cell_type": "code",
   "execution_count": 23,
   "metadata": {},
   "outputs": [
    {
     "data": {
      "image/png": "[encoded data removed]",
      "text/plain": [
       "<Figure size 720x432 with 1 Axes>"
      ]
     },
     "metadata": {
      "needs_background": "light"
     },
     "output_type": "display_data"
    }
   ],
   "source": [
    "register_matplotlib_converters()\n",
    "plt.figure(figsize=(10,6))\n",
    "ax = logs['date_time'].hist(bins=60)\n",
    "plt.title('Количество обращений к сервису по дням')\n",
    "plt.xlabel('Дата')\n",
    "plt.ylabel('Количество обращений')\n",
    "plt.xticks(rotation=50)\n",
    "plt.show()"
   ]
  },
  {
   "cell_type": "code",
   "execution_count": 24,
   "metadata": {},
   "outputs": [
    {
     "data": {
      "text/html": [
       "<div>\n",
       "<style scoped>\n",
       "    .dataframe tbody tr th:only-of-type {\n",
       "        vertical-align: middle;\n",
       "    }\n",
       "\n",
       "    .dataframe tbody tr th {\n",
       "        vertical-align: top;\n",
       "    }\n",
       "\n",
       "    .dataframe thead th {\n",
       "        text-align: right;\n",
       "    }\n",
       "</style>\n",
       "<table border=\"1\" class=\"dataframe\">\n",
       "  <thead>\n",
       "    <tr style=\"text-align: right;\">\n",
       "      <th></th>\n",
       "      <th>event_count</th>\n",
       "    </tr>\n",
       "    <tr>\n",
       "      <th>date</th>\n",
       "      <th></th>\n",
       "    </tr>\n",
       "  </thead>\n",
       "  <tbody>\n",
       "    <tr>\n",
       "      <td>2019-07-25</td>\n",
       "      <td>9</td>\n",
       "    </tr>\n",
       "    <tr>\n",
       "      <td>2019-07-26</td>\n",
       "      <td>31</td>\n",
       "    </tr>\n",
       "    <tr>\n",
       "      <td>2019-07-27</td>\n",
       "      <td>55</td>\n",
       "    </tr>\n",
       "    <tr>\n",
       "      <td>2019-07-28</td>\n",
       "      <td>105</td>\n",
       "    </tr>\n",
       "    <tr>\n",
       "      <td>2019-07-29</td>\n",
       "      <td>184</td>\n",
       "    </tr>\n",
       "    <tr>\n",
       "      <td>2019-07-30</td>\n",
       "      <td>412</td>\n",
       "    </tr>\n",
       "    <tr>\n",
       "      <td>2019-07-31</td>\n",
       "      <td>2030</td>\n",
       "    </tr>\n",
       "    <tr>\n",
       "      <td>2019-08-01</td>\n",
       "      <td>36141</td>\n",
       "    </tr>\n",
       "    <tr>\n",
       "      <td>2019-08-02</td>\n",
       "      <td>35554</td>\n",
       "    </tr>\n",
       "    <tr>\n",
       "      <td>2019-08-03</td>\n",
       "      <td>33282</td>\n",
       "    </tr>\n",
       "    <tr>\n",
       "      <td>2019-08-04</td>\n",
       "      <td>32968</td>\n",
       "    </tr>\n",
       "    <tr>\n",
       "      <td>2019-08-05</td>\n",
       "      <td>36058</td>\n",
       "    </tr>\n",
       "    <tr>\n",
       "      <td>2019-08-06</td>\n",
       "      <td>35788</td>\n",
       "    </tr>\n",
       "    <tr>\n",
       "      <td>2019-08-07</td>\n",
       "      <td>31096</td>\n",
       "    </tr>\n",
       "  </tbody>\n",
       "</table>\n",
       "</div>"
      ],
      "text/plain": [
       "            event_count\n",
       "date                   \n",
       "2019-07-25            9\n",
       "2019-07-26           31\n",
       "2019-07-27           55\n",
       "2019-07-28          105\n",
       "2019-07-29          184\n",
       "2019-07-30          412\n",
       "2019-07-31         2030\n",
       "2019-08-01        36141\n",
       "2019-08-02        35554\n",
       "2019-08-03        33282\n",
       "2019-08-04        32968\n",
       "2019-08-05        36058\n",
       "2019-08-06        35788\n",
       "2019-08-07        31096"
      ]
     },
     "execution_count": 24,
     "metadata": {},
     "output_type": "execute_result"
    }
   ],
   "source": [
    "logs_pivot = logs.pivot_table(index='date', values = 'event_name', aggfunc='count')\n",
    "logs_pivot.columns = ['event_count']\n",
    "logs_pivot"
   ]
  },
  {
   "cell_type": "code",
   "execution_count": 25,
   "metadata": {},
   "outputs": [
    {
     "data": {
      "text/plain": [
       "2030"
      ]
     },
     "metadata": {},
     "output_type": "display_data"
    },
    {
     "data": {
      "text/plain": [
       "1667"
      ]
     },
     "metadata": {},
     "output_type": "display_data"
    },
    {
     "data": {
      "text/plain": [
       "958"
      ]
     },
     "metadata": {},
     "output_type": "display_data"
    }
   ],
   "source": [
    "display(len(logs[(logs['date_time'] >= '2019-07-31 00:00:00') & (logs['date_time'] <= '2019-08-01 00:00:00')]))\n",
    "display(len(logs[(logs['date_time'] >= '2019-07-31 12:00:00') & (logs['date_time'] <= '2019-08-01 00:00:00')]))\n",
    "display(len(logs[(logs['date_time'] >= '2019-07-31 19:00:00') & (logs['date_time'] <= '2019-08-01 00:00:00')]))"
   ]
  },
  {
   "cell_type": "markdown",
   "metadata": {},
   "source": [
    "В период с 19 часов вечера до конца дня 31 июля было 958 обращений к сервису."
   ]
  },
  {
   "cell_type": "markdown",
   "metadata": {},
   "source": [
    "Технически в логи новых дней по некоторым пользователям могут «доезжать» события из прошлого — это может «перекашивать данные». По графику видно, что большинство событий и обращений к сервису начинается с 01.08.2019. Следовательно, отбросим более старые данные и будем работать с периодом 01.08.2019 - 07.08.2019."
   ]
  },
  {
   "cell_type": "code",
   "execution_count": 26,
   "metadata": {},
   "outputs": [],
   "source": [
    "date_query = '2019-07-31'\n",
    "logs_clean = logs.query('date > @date_query')"
   ]
  },
  {
   "cell_type": "markdown",
   "metadata": {},
   "source": [
    "### Посмотрим, сколько событий и пользователей потеряли, отбросив старые данные"
   ]
  },
  {
   "cell_type": "code",
   "execution_count": 27,
   "metadata": {},
   "outputs": [
    {
     "name": "stdout",
     "output_type": "stream",
     "text": [
      "Всего пользователей после фильтрации данных: 7534\n"
     ]
    }
   ],
   "source": [
    "print('Всего пользователей после фильтрации данных: {:.0f}'.format(logs_clean['user_id'].nunique()))"
   ]
  },
  {
   "cell_type": "code",
   "execution_count": 28,
   "metadata": {},
   "outputs": [
    {
     "name": "stdout",
     "output_type": "stream",
     "text": [
      "Общая сумма событий после фильтрации данных: 240887\n"
     ]
    }
   ],
   "source": [
    "print('Общая сумма событий после фильтрации данных: {:.0f}'.format(logs_clean['event_name'].value_counts().sum()))"
   ]
  },
  {
   "cell_type": "code",
   "execution_count": 29,
   "metadata": {},
   "outputs": [
    {
     "name": "stdout",
     "output_type": "stream",
     "text": [
      "После фильтрации данных потеряли: 2826 событий, 1.16% от общего объема данных\n"
     ]
    }
   ],
   "source": [
    "print('После фильтрации данных потеряли: {:.0f} событий, {:.2%} от общего объема данных'.format(logs_value_counts.sum() - \\\n",
    "                                         logs_clean['event_name'].value_counts().sum(), \n",
    "                                         1 - (len(logs_clean['event_name']) / len(logs['event_name']))))"
   ]
  },
  {
   "cell_type": "code",
   "execution_count": 30,
   "metadata": {},
   "outputs": [
    {
     "name": "stdout",
     "output_type": "stream",
     "text": [
      "После фильтрации данных потеряли: 17 пользователей, 0.23% от общего объема данных\n"
     ]
    }
   ],
   "source": [
    "print('После фильтрации данных потеряли: {:.0f} пользователей, {:.2%} от общего объема данных'.format(\\\n",
    "                                logs['user_id'].nunique() - logs_clean['user_id'].nunique(), \\\n",
    "                                1 - (logs_clean['user_id'].nunique() / logs['user_id'].nunique())))"
   ]
  },
  {
   "cell_type": "markdown",
   "metadata": {},
   "source": [
    "### Посмотрим, что у нас есть пользователи из всех трёх экспериментальных групп"
   ]
  },
  {
   "cell_type": "code",
   "execution_count": 31,
   "metadata": {},
   "outputs": [
    {
     "data": {
      "text/html": [
       "<div>\n",
       "<style scoped>\n",
       "    .dataframe tbody tr th:only-of-type {\n",
       "        vertical-align: middle;\n",
       "    }\n",
       "\n",
       "    .dataframe tbody tr th {\n",
       "        vertical-align: top;\n",
       "    }\n",
       "\n",
       "    .dataframe thead th {\n",
       "        text-align: right;\n",
       "    }\n",
       "</style>\n",
       "<table border=\"1\" class=\"dataframe\">\n",
       "  <thead>\n",
       "    <tr style=\"text-align: right;\">\n",
       "      <th></th>\n",
       "      <th>user_id</th>\n",
       "    </tr>\n",
       "    <tr>\n",
       "      <th>exp_id</th>\n",
       "      <th></th>\n",
       "    </tr>\n",
       "  </thead>\n",
       "  <tbody>\n",
       "    <tr>\n",
       "      <td>246</td>\n",
       "      <td>79302</td>\n",
       "    </tr>\n",
       "    <tr>\n",
       "      <td>247</td>\n",
       "      <td>77022</td>\n",
       "    </tr>\n",
       "    <tr>\n",
       "      <td>248</td>\n",
       "      <td>84563</td>\n",
       "    </tr>\n",
       "  </tbody>\n",
       "</table>\n",
       "</div>"
      ],
      "text/plain": [
       "        user_id\n",
       "exp_id         \n",
       "246       79302\n",
       "247       77022\n",
       "248       84563"
      ]
     },
     "execution_count": 31,
     "metadata": {},
     "output_type": "execute_result"
    }
   ],
   "source": [
    "logs_clean.groupby('exp_id').agg({'user_id':'count'})"
   ]
  },
  {
   "cell_type": "code",
   "execution_count": 32,
   "metadata": {},
   "outputs": [
    {
     "data": {
      "text/html": [
       "<div>\n",
       "<style scoped>\n",
       "    .dataframe tbody tr th:only-of-type {\n",
       "        vertical-align: middle;\n",
       "    }\n",
       "\n",
       "    .dataframe tbody tr th {\n",
       "        vertical-align: top;\n",
       "    }\n",
       "\n",
       "    .dataframe thead th {\n",
       "        text-align: right;\n",
       "    }\n",
       "</style>\n",
       "<table border=\"1\" class=\"dataframe\">\n",
       "  <thead>\n",
       "    <tr style=\"text-align: right;\">\n",
       "      <th></th>\n",
       "      <th>user_id</th>\n",
       "    </tr>\n",
       "    <tr>\n",
       "      <th>exp_id</th>\n",
       "      <th></th>\n",
       "    </tr>\n",
       "  </thead>\n",
       "  <tbody>\n",
       "    <tr>\n",
       "      <td>246</td>\n",
       "      <td>2484</td>\n",
       "    </tr>\n",
       "    <tr>\n",
       "      <td>247</td>\n",
       "      <td>2513</td>\n",
       "    </tr>\n",
       "    <tr>\n",
       "      <td>248</td>\n",
       "      <td>2537</td>\n",
       "    </tr>\n",
       "  </tbody>\n",
       "</table>\n",
       "</div>"
      ],
      "text/plain": [
       "        user_id\n",
       "exp_id         \n",
       "246        2484\n",
       "247        2513\n",
       "248        2537"
      ]
     },
     "execution_count": 32,
     "metadata": {},
     "output_type": "execute_result"
    }
   ],
   "source": [
    "logs_clean.groupby('exp_id').agg({'user_id':'nunique'})"
   ]
  },
  {
   "cell_type": "markdown",
   "metadata": {},
   "source": [
    "246 и 247 — контрольные группы, а 248 — экспериментальная. В трех экспериментальных группах примерно одинаковое количество пользователей."
   ]
  },
  {
   "cell_type": "markdown",
   "metadata": {},
   "source": [
    "**Вывод**\n",
    "1. Общая сумма событий в логе: 243713\n",
    "2. Всего 5 типов событий в логе:\n",
    " - MainScreenAppear - главный экран,\n",
    " - OffersScreenAppear - экран предложения,\n",
    " - CartScreenAppear - экран корзины, \n",
    " - PaymentScreenSuccessful - успешное завершение оплаты,\n",
    " - Tutorial - руководство\n",
    "3. Всего пользователей в логе: 7551\n",
    "4. В среднем на 1 пользователя приходится 32 события.\n",
    "5. Эксперимент длился с 25.07.2019 по 07.08.2019. Технически в логи новых дней по некоторым пользователям могут «доезжать» события из прошлого — это может «перекашивать данные». По графику видно, что большинство событий и обращений к сервису начинается с 01.08.2019. Следовательно, отбросим более старые данные и будем работать с периодом 01.08.2019 - 07.08.2019."
   ]
  },
  {
   "cell_type": "markdown",
   "metadata": {},
   "source": [
    "## Воронка событий"
   ]
  },
  {
   "cell_type": "markdown",
   "metadata": {},
   "source": [
    "### Какие события есть в логах, как часто они встречаются"
   ]
  },
  {
   "cell_type": "code",
   "execution_count": 33,
   "metadata": {},
   "outputs": [
    {
     "data": {
      "text/html": [
       "<div>\n",
       "<style scoped>\n",
       "    .dataframe tbody tr th:only-of-type {\n",
       "        vertical-align: middle;\n",
       "    }\n",
       "\n",
       "    .dataframe tbody tr th {\n",
       "        vertical-align: top;\n",
       "    }\n",
       "\n",
       "    .dataframe thead th {\n",
       "        text-align: right;\n",
       "    }\n",
       "</style>\n",
       "<table border=\"1\" class=\"dataframe\">\n",
       "  <thead>\n",
       "    <tr style=\"text-align: right;\">\n",
       "      <th></th>\n",
       "      <th>event_name</th>\n",
       "      <th>count</th>\n",
       "    </tr>\n",
       "  </thead>\n",
       "  <tbody>\n",
       "    <tr>\n",
       "      <td>1</td>\n",
       "      <td>MainScreenAppear</td>\n",
       "      <td>117328</td>\n",
       "    </tr>\n",
       "    <tr>\n",
       "      <td>2</td>\n",
       "      <td>OffersScreenAppear</td>\n",
       "      <td>46333</td>\n",
       "    </tr>\n",
       "    <tr>\n",
       "      <td>0</td>\n",
       "      <td>CartScreenAppear</td>\n",
       "      <td>42303</td>\n",
       "    </tr>\n",
       "    <tr>\n",
       "      <td>3</td>\n",
       "      <td>PaymentScreenSuccessful</td>\n",
       "      <td>33918</td>\n",
       "    </tr>\n",
       "    <tr>\n",
       "      <td>4</td>\n",
       "      <td>Tutorial</td>\n",
       "      <td>1005</td>\n",
       "    </tr>\n",
       "  </tbody>\n",
       "</table>\n",
       "</div>"
      ],
      "text/plain": [
       "                event_name   count\n",
       "1         MainScreenAppear  117328\n",
       "2       OffersScreenAppear   46333\n",
       "0         CartScreenAppear   42303\n",
       "3  PaymentScreenSuccessful   33918\n",
       "4                 Tutorial    1005"
      ]
     },
     "execution_count": 33,
     "metadata": {},
     "output_type": "execute_result"
    }
   ],
   "source": [
    "logs_count = logs_clean.groupby('event_name')['user_id'].count().reset_index().sort_values(by='user_id', ascending = False)\n",
    "logs_count.columns = ['event_name', 'count']\n",
    "logs_count"
   ]
  },
  {
   "cell_type": "markdown",
   "metadata": {},
   "source": [
    "Всего 5 событий в логе."
   ]
  },
  {
   "cell_type": "markdown",
   "metadata": {},
   "source": [
    "### Посмотрим, сколько пользователей совершали каждое из этих событий"
   ]
  },
  {
   "cell_type": "code",
   "execution_count": 34,
   "metadata": {},
   "outputs": [
    {
     "data": {
      "text/html": [
       "<div>\n",
       "<style scoped>\n",
       "    .dataframe tbody tr th:only-of-type {\n",
       "        vertical-align: middle;\n",
       "    }\n",
       "\n",
       "    .dataframe tbody tr th {\n",
       "        vertical-align: top;\n",
       "    }\n",
       "\n",
       "    .dataframe thead th {\n",
       "        text-align: right;\n",
       "    }\n",
       "</style>\n",
       "<table border=\"1\" class=\"dataframe\">\n",
       "  <thead>\n",
       "    <tr style=\"text-align: right;\">\n",
       "      <th></th>\n",
       "      <th>event_name</th>\n",
       "      <th>user_unique</th>\n",
       "    </tr>\n",
       "  </thead>\n",
       "  <tbody>\n",
       "    <tr>\n",
       "      <td>1</td>\n",
       "      <td>MainScreenAppear</td>\n",
       "      <td>7419</td>\n",
       "    </tr>\n",
       "    <tr>\n",
       "      <td>2</td>\n",
       "      <td>OffersScreenAppear</td>\n",
       "      <td>4593</td>\n",
       "    </tr>\n",
       "    <tr>\n",
       "      <td>0</td>\n",
       "      <td>CartScreenAppear</td>\n",
       "      <td>3734</td>\n",
       "    </tr>\n",
       "    <tr>\n",
       "      <td>3</td>\n",
       "      <td>PaymentScreenSuccessful</td>\n",
       "      <td>3539</td>\n",
       "    </tr>\n",
       "    <tr>\n",
       "      <td>4</td>\n",
       "      <td>Tutorial</td>\n",
       "      <td>840</td>\n",
       "    </tr>\n",
       "  </tbody>\n",
       "</table>\n",
       "</div>"
      ],
      "text/plain": [
       "                event_name  user_unique\n",
       "1         MainScreenAppear         7419\n",
       "2       OffersScreenAppear         4593\n",
       "0         CartScreenAppear         3734\n",
       "3  PaymentScreenSuccessful         3539\n",
       "4                 Tutorial          840"
      ]
     },
     "execution_count": 34,
     "metadata": {},
     "output_type": "execute_result"
    }
   ],
   "source": [
    "logs_unique = logs_clean.groupby('event_name').agg({'user_id': 'nunique'}).reset_index().\\\n",
    "                                             sort_values(by='user_id', ascending = False)\n",
    "logs_unique.columns = ['event_name', 'user_unique']\n",
    "logs_unique"
   ]
  },
  {
   "cell_type": "markdown",
   "metadata": {},
   "source": [
    "### Предположим, в каком порядке происходят события"
   ]
  },
  {
   "cell_type": "markdown",
   "metadata": {},
   "source": [
    "Знакомство с сервисом у пользователя начинается с главной страницы. Затем пользователь попадает на экран предложения, а затем на экран корзины. После успешного завершения оплаты пользователь попадает на страницу с руководством. Обучение часто пропускают. Все события, кроме обучения, выстраиваются в последовательную цепочку. Можно предположить, что интерфейс продукта доступен и интуитивно понятен пользователям. Этап обучения не будем включать в нашу воронку. "
   ]
  },
  {
   "cell_type": "code",
   "execution_count": 37,
   "metadata": {},
   "outputs": [],
   "source": [
    "logs_clean = logs_clean[logs_clean['event_name'] != 'Tutorial']\n",
    "logs_unique = logs_unique[logs_unique['event_name'] != 'Tutorial']"
   ]
  },
  {
   "cell_type": "markdown",
   "metadata": {},
   "source": [
    "### Посмотрим, какая доля пользователей проходит на следующий шаг воронки (от числа пользователей на предыдущем)"
   ]
  },
  {
   "cell_type": "code",
   "execution_count": 38,
   "metadata": {},
   "outputs": [],
   "source": [
    "logs_unique['conversion'] = logs_unique['user_unique'].apply(lambda x: round((x/7419)*100, 2))"
   ]
  },
  {
   "cell_type": "code",
   "execution_count": 39,
   "metadata": {},
   "outputs": [],
   "source": [
    "logs_unique['percent'] = None"
   ]
  },
  {
   "cell_type": "code",
   "execution_count": 40,
   "metadata": {},
   "outputs": [
    {
     "data": {
      "text/html": [
       "<div>\n",
       "<style scoped>\n",
       "    .dataframe tbody tr th:only-of-type {\n",
       "        vertical-align: middle;\n",
       "    }\n",
       "\n",
       "    .dataframe tbody tr th {\n",
       "        vertical-align: top;\n",
       "    }\n",
       "\n",
       "    .dataframe thead th {\n",
       "        text-align: right;\n",
       "    }\n",
       "</style>\n",
       "<table border=\"1\" class=\"dataframe\">\n",
       "  <thead>\n",
       "    <tr style=\"text-align: right;\">\n",
       "      <th></th>\n",
       "      <th>event_name</th>\n",
       "      <th>user_unique</th>\n",
       "      <th>conversion</th>\n",
       "      <th>percent</th>\n",
       "    </tr>\n",
       "  </thead>\n",
       "  <tbody>\n",
       "    <tr>\n",
       "      <td>1</td>\n",
       "      <td>MainScreenAppear</td>\n",
       "      <td>7419</td>\n",
       "      <td>100.00</td>\n",
       "      <td>None</td>\n",
       "    </tr>\n",
       "    <tr>\n",
       "      <td>2</td>\n",
       "      <td>OffersScreenAppear</td>\n",
       "      <td>4593</td>\n",
       "      <td>61.91</td>\n",
       "      <td>None</td>\n",
       "    </tr>\n",
       "    <tr>\n",
       "      <td>0</td>\n",
       "      <td>CartScreenAppear</td>\n",
       "      <td>3734</td>\n",
       "      <td>50.33</td>\n",
       "      <td>None</td>\n",
       "    </tr>\n",
       "    <tr>\n",
       "      <td>3</td>\n",
       "      <td>PaymentScreenSuccessful</td>\n",
       "      <td>3539</td>\n",
       "      <td>47.70</td>\n",
       "      <td>None</td>\n",
       "    </tr>\n",
       "  </tbody>\n",
       "</table>\n",
       "</div>"
      ],
      "text/plain": [
       "                event_name  user_unique  conversion percent\n",
       "1         MainScreenAppear         7419      100.00    None\n",
       "2       OffersScreenAppear         4593       61.91    None\n",
       "0         CartScreenAppear         3734       50.33    None\n",
       "3  PaymentScreenSuccessful         3539       47.70    None"
      ]
     },
     "execution_count": 40,
     "metadata": {},
     "output_type": "execute_result"
    }
   ],
   "source": [
    "logs_unique"
   ]
  },
  {
   "cell_type": "code",
   "execution_count": 41,
   "metadata": {},
   "outputs": [],
   "source": [
    "def percent(df):\n",
    "    df.iloc[0,3] = 100\n",
    "    df.iloc[1,3] = round((df.iloc[1,2] / df.iloc[0,2]) * 100,2)\n",
    "    df.iloc[2,3] = round((df.iloc[2,2] / df.iloc[1,2]) * 100,2)\n",
    "    df.iloc[3,3] = round((df.iloc[3,2] / df.iloc[2,2]) * 100,2)\n",
    "    return df"
   ]
  },
  {
   "cell_type": "code",
   "execution_count": 42,
   "metadata": {},
   "outputs": [
    {
     "data": {
      "text/html": [
       "<div>\n",
       "<style scoped>\n",
       "    .dataframe tbody tr th:only-of-type {\n",
       "        vertical-align: middle;\n",
       "    }\n",
       "\n",
       "    .dataframe tbody tr th {\n",
       "        vertical-align: top;\n",
       "    }\n",
       "\n",
       "    .dataframe thead th {\n",
       "        text-align: right;\n",
       "    }\n",
       "</style>\n",
       "<table border=\"1\" class=\"dataframe\">\n",
       "  <thead>\n",
       "    <tr style=\"text-align: right;\">\n",
       "      <th></th>\n",
       "      <th>event_name</th>\n",
       "      <th>user_unique</th>\n",
       "      <th>conversion</th>\n",
       "      <th>percent</th>\n",
       "    </tr>\n",
       "  </thead>\n",
       "  <tbody>\n",
       "    <tr>\n",
       "      <td>1</td>\n",
       "      <td>MainScreenAppear</td>\n",
       "      <td>7419</td>\n",
       "      <td>100.00</td>\n",
       "      <td>100</td>\n",
       "    </tr>\n",
       "    <tr>\n",
       "      <td>2</td>\n",
       "      <td>OffersScreenAppear</td>\n",
       "      <td>4593</td>\n",
       "      <td>61.91</td>\n",
       "      <td>61.91</td>\n",
       "    </tr>\n",
       "    <tr>\n",
       "      <td>0</td>\n",
       "      <td>CartScreenAppear</td>\n",
       "      <td>3734</td>\n",
       "      <td>50.33</td>\n",
       "      <td>81.3</td>\n",
       "    </tr>\n",
       "    <tr>\n",
       "      <td>3</td>\n",
       "      <td>PaymentScreenSuccessful</td>\n",
       "      <td>3539</td>\n",
       "      <td>47.70</td>\n",
       "      <td>94.77</td>\n",
       "    </tr>\n",
       "  </tbody>\n",
       "</table>\n",
       "</div>"
      ],
      "text/plain": [
       "                event_name  user_unique  conversion percent\n",
       "1         MainScreenAppear         7419      100.00     100\n",
       "2       OffersScreenAppear         4593       61.91   61.91\n",
       "0         CartScreenAppear         3734       50.33    81.3\n",
       "3  PaymentScreenSuccessful         3539       47.70   94.77"
      ]
     },
     "execution_count": 42,
     "metadata": {},
     "output_type": "execute_result"
    }
   ],
   "source": [
    "logs_unique = percent(logs_unique)\n",
    "logs_unique"
   ]
  },
  {
   "cell_type": "markdown",
   "metadata": {},
   "source": [
    "### На каком шаге теряем больше всего пользователей"
   ]
  },
  {
   "cell_type": "markdown",
   "metadata": {},
   "source": [
    "Больше всего пользователей теряем на главном экране (~38% пользователей)."
   ]
  },
  {
   "cell_type": "markdown",
   "metadata": {},
   "source": [
    "### Какая доля пользователей доходит от первого события до оплаты"
   ]
  },
  {
   "cell_type": "markdown",
   "metadata": {},
   "source": [
    "От посещения главного экрана до успешной оплаты доходит 47,7% пользователей."
   ]
  },
  {
   "cell_type": "markdown",
   "metadata": {},
   "source": [
    "**Вывод**\n",
    "1. Знакомство с сервисом у пользователя начинается с главной страницы. Затем пользователь попадает на экран предложения, а затем на экран корзины. После успешного завершения оплаты пользователь попадает на страницу с руководством. Обучение часто пропускают. Все события, кроме обучения, выстраиваются в последовательную цепочку. Можно предположить, что интерфейс продукта доступен и интуитивно понятен пользователям. Этап обучения не будем включать в нашу воронку.\n",
    "2. Больше всего пользователей теряем на главном экране (~38% пользователей).\n",
    "3. От посещения главного экрана до успешной оплаты доходит 47,7% пользователей."
   ]
  },
  {
   "cell_type": "markdown",
   "metadata": {},
   "source": [
    "## Результаты эксперимента"
   ]
  },
  {
   "cell_type": "markdown",
   "metadata": {},
   "source": [
    "### Сколько пользователей в каждой экспериментальной группе"
   ]
  },
  {
   "cell_type": "code",
   "execution_count": 43,
   "metadata": {},
   "outputs": [
    {
     "data": {
      "text/html": [
       "<div>\n",
       "<style scoped>\n",
       "    .dataframe tbody tr th:only-of-type {\n",
       "        vertical-align: middle;\n",
       "    }\n",
       "\n",
       "    .dataframe tbody tr th {\n",
       "        vertical-align: top;\n",
       "    }\n",
       "\n",
       "    .dataframe thead th {\n",
       "        text-align: right;\n",
       "    }\n",
       "</style>\n",
       "<table border=\"1\" class=\"dataframe\">\n",
       "  <thead>\n",
       "    <tr style=\"text-align: right;\">\n",
       "      <th></th>\n",
       "      <th>user_id</th>\n",
       "    </tr>\n",
       "    <tr>\n",
       "      <th>exp_id</th>\n",
       "      <th></th>\n",
       "    </tr>\n",
       "  </thead>\n",
       "  <tbody>\n",
       "    <tr>\n",
       "      <td>246</td>\n",
       "      <td>2483</td>\n",
       "    </tr>\n",
       "    <tr>\n",
       "      <td>247</td>\n",
       "      <td>2512</td>\n",
       "    </tr>\n",
       "    <tr>\n",
       "      <td>248</td>\n",
       "      <td>2535</td>\n",
       "    </tr>\n",
       "  </tbody>\n",
       "</table>\n",
       "</div>"
      ],
      "text/plain": [
       "        user_id\n",
       "exp_id         \n",
       "246        2483\n",
       "247        2512\n",
       "248        2535"
      ]
     },
     "execution_count": 43,
     "metadata": {},
     "output_type": "execute_result"
    }
   ],
   "source": [
    "logs_clean.groupby('exp_id').agg({'user_id': 'nunique'})"
   ]
  },
  {
   "cell_type": "markdown",
   "metadata": {},
   "source": [
    "В каждой группе примерно одинаковое количество пользователей."
   ]
  },
  {
   "cell_type": "markdown",
   "metadata": {},
   "source": [
    "### Гипотеза о равенстве конверсий в двух контрольных группах (A/A-тест)"
   ]
  },
  {
   "cell_type": "code",
   "execution_count": 44,
   "metadata": {},
   "outputs": [],
   "source": [
    "group_A_246 = logs_clean.loc[(logs_clean['exp_id'] == 246) & (logs_clean['event_name'] != 'Tutorial')]\n",
    "group_A_247 = logs_clean.loc[(logs_clean['exp_id'] == 247) & (logs_clean['event_name'] != 'Tutorial')]\n",
    "group_B_248 = logs_clean.loc[(logs_clean['exp_id'] == 248) & (logs_clean['event_name'] != 'Tutorial')]"
   ]
  },
  {
   "cell_type": "code",
   "execution_count": 45,
   "metadata": {},
   "outputs": [
    {
     "data": {
      "text/html": [
       "<div>\n",
       "<style scoped>\n",
       "    .dataframe tbody tr th:only-of-type {\n",
       "        vertical-align: middle;\n",
       "    }\n",
       "\n",
       "    .dataframe tbody tr th {\n",
       "        vertical-align: top;\n",
       "    }\n",
       "\n",
       "    .dataframe thead th {\n",
       "        text-align: right;\n",
       "    }\n",
       "</style>\n",
       "<table border=\"1\" class=\"dataframe\">\n",
       "  <thead>\n",
       "    <tr style=\"text-align: right;\">\n",
       "      <th></th>\n",
       "      <th>event_name</th>\n",
       "      <th>user_id</th>\n",
       "    </tr>\n",
       "  </thead>\n",
       "  <tbody>\n",
       "    <tr>\n",
       "      <td>0</td>\n",
       "      <td>MainScreenAppear</td>\n",
       "      <td>2450</td>\n",
       "    </tr>\n",
       "    <tr>\n",
       "      <td>1</td>\n",
       "      <td>OffersScreenAppear</td>\n",
       "      <td>1542</td>\n",
       "    </tr>\n",
       "    <tr>\n",
       "      <td>2</td>\n",
       "      <td>CartScreenAppear</td>\n",
       "      <td>1266</td>\n",
       "    </tr>\n",
       "    <tr>\n",
       "      <td>3</td>\n",
       "      <td>PaymentScreenSuccessful</td>\n",
       "      <td>1200</td>\n",
       "    </tr>\n",
       "  </tbody>\n",
       "</table>\n",
       "</div>"
      ],
      "text/plain": [
       "                event_name  user_id\n",
       "0         MainScreenAppear     2450\n",
       "1       OffersScreenAppear     1542\n",
       "2         CartScreenAppear     1266\n",
       "3  PaymentScreenSuccessful     1200"
      ]
     },
     "execution_count": 45,
     "metadata": {},
     "output_type": "execute_result"
    }
   ],
   "source": [
    "group_A_246_count = group_A_246.groupby('event_name').agg({'user_id': 'nunique'}).sort_values(by='user_id', ascending = False)\n",
    "group_A_246_count = group_A_246_count.reset_index()\n",
    "group_A_246_count"
   ]
  },
  {
   "cell_type": "code",
   "execution_count": 46,
   "metadata": {},
   "outputs": [
    {
     "data": {
      "text/html": [
       "<div>\n",
       "<style scoped>\n",
       "    .dataframe tbody tr th:only-of-type {\n",
       "        vertical-align: middle;\n",
       "    }\n",
       "\n",
       "    .dataframe tbody tr th {\n",
       "        vertical-align: top;\n",
       "    }\n",
       "\n",
       "    .dataframe thead th {\n",
       "        text-align: right;\n",
       "    }\n",
       "</style>\n",
       "<table border=\"1\" class=\"dataframe\">\n",
       "  <thead>\n",
       "    <tr style=\"text-align: right;\">\n",
       "      <th></th>\n",
       "      <th>event_name</th>\n",
       "      <th>user_id</th>\n",
       "    </tr>\n",
       "  </thead>\n",
       "  <tbody>\n",
       "    <tr>\n",
       "      <td>0</td>\n",
       "      <td>MainScreenAppear</td>\n",
       "      <td>2476</td>\n",
       "    </tr>\n",
       "    <tr>\n",
       "      <td>1</td>\n",
       "      <td>OffersScreenAppear</td>\n",
       "      <td>1520</td>\n",
       "    </tr>\n",
       "    <tr>\n",
       "      <td>2</td>\n",
       "      <td>CartScreenAppear</td>\n",
       "      <td>1238</td>\n",
       "    </tr>\n",
       "    <tr>\n",
       "      <td>3</td>\n",
       "      <td>PaymentScreenSuccessful</td>\n",
       "      <td>1158</td>\n",
       "    </tr>\n",
       "  </tbody>\n",
       "</table>\n",
       "</div>"
      ],
      "text/plain": [
       "                event_name  user_id\n",
       "0         MainScreenAppear     2476\n",
       "1       OffersScreenAppear     1520\n",
       "2         CartScreenAppear     1238\n",
       "3  PaymentScreenSuccessful     1158"
      ]
     },
     "execution_count": 46,
     "metadata": {},
     "output_type": "execute_result"
    }
   ],
   "source": [
    "group_A_247_count = group_A_247.groupby('event_name').agg({'user_id': 'nunique'}).sort_values(by='user_id', ascending = False)\n",
    "group_A_247_count = group_A_247_count.reset_index()\n",
    "group_A_247_count"
   ]
  },
  {
   "cell_type": "code",
   "execution_count": 47,
   "metadata": {},
   "outputs": [],
   "source": [
    "def test_conversion(group1, group2, event_trial, event_successe):\n",
    "    alpha = .05 # критический уровень статистической значимости\n",
    "    # число успехов \n",
    "    successes1 = group1[group1['event_name'] == event_successe]['user_id'].values[0]\n",
    "    successes2 = group2[group2['event_name'] == event_successe]['user_id'].values[0]\n",
    "    # число попыток\n",
    "    trials1 = group1[group1['event_name'] == event_trial]['user_id'].values[0]\n",
    "    trials2 = group2[group2['event_name'] == event_trial]['user_id'].values[0]\n",
    "    results = proportions_ztest([successes1, successes2], [trials1, trials2])\n",
    "    print('p-value: {:.5f}'.format(results[1]))\n",
    "    if (results[1] < alpha):\n",
    "        print(\"Отвергаем нулевую гипотезу\")\n",
    "    else:\n",
    "        print(\"Не получилось отвергнуть нулевую гипотезу\")"
   ]
  },
  {
   "cell_type": "markdown",
   "metadata": {},
   "source": [
    "Гипотеза. Конверсия из MainScreenAppear (главный экран) в OffersScreenAppear (экран предложения) контрольной группы 246 равна конверсии данного события в контрольной группе 247. <br>\n",
    "HO: Конверсия из MainScreenAppear (главный экран) в OffersScreenAppear (экран предложения) контрольной группы 246 равна конверсии данного события в контрольной группе 247. <br>\n",
    "Н1: Конверсия из MainScreenAppear (главный экран) в OffersScreenAppear (экран предложения) контрольной группы 246 не равна конверсии данного события в контрольной группе 247."
   ]
  },
  {
   "cell_type": "code",
   "execution_count": 48,
   "metadata": {},
   "outputs": [
    {
     "name": "stdout",
     "output_type": "stream",
     "text": [
      "p-value: 0.26223\n",
      "Не получилось отвергнуть нулевую гипотезу\n"
     ]
    }
   ],
   "source": [
    "# конверсия из главного экрана в экран предложения\n",
    "test_conversion(group_A_246_count, group_A_247_count, 'MainScreenAppear', 'OffersScreenAppear')"
   ]
  },
  {
   "cell_type": "markdown",
   "metadata": {},
   "source": [
    "Гипотеза. Конверсия из MainScreenAppear (главный экран) в CartScreenAppear (экран корзины) контрольной группы 246 равна конверсии данного события в контрольной группе 247. <br>\n",
    "HO: Конверсия из  MainScreenAppear (главный экран) в CartScreenAppear (экран корзины)  контрольной группы 246 равна конверсии данного события в контрольной группе 247. <br>\n",
    "Н1: Конверсия из  MainScreenAppear (главный экран) в CartScreenAppear (экран корзины)  контрольной группы 246 не равна конверсии данного события в контрольной группе 247."
   ]
  },
  {
   "cell_type": "code",
   "execution_count": 49,
   "metadata": {},
   "outputs": [
    {
     "name": "stdout",
     "output_type": "stream",
     "text": [
      "p-value: 0.24012\n",
      "Не получилось отвергнуть нулевую гипотезу\n"
     ]
    }
   ],
   "source": [
    "# конверсия из экрана предложения в экран корзины\n",
    "test_conversion(group_A_246_count, group_A_247_count, 'MainScreenAppear', 'CartScreenAppear')"
   ]
  },
  {
   "cell_type": "markdown",
   "metadata": {},
   "source": [
    "Гипотеза. Конверсия из MainScreenAppear (главный экран) в PaymentScreenSuccessful (завершение оплаты) контрольной группы 246 равна конверсии данного события в контрольной группе 247. <br>\n",
    "HO: Конверсия из MainScreenAppear (главный экран) в PaymentScreenSuccessful (завершение оплаты) контрольной группы 246 равна конверсии данного события в контрольной группе 247. <br>\n",
    "Н1: Конверсия из MainScreenAppear (главный экран) в PaymentScreenSuccessful (завершение оплаты) контрольной группы 246 не равна конверсии данного события в контрольной группе 247."
   ]
  },
  {
   "cell_type": "code",
   "execution_count": 50,
   "metadata": {},
   "outputs": [
    {
     "name": "stdout",
     "output_type": "stream",
     "text": [
      "p-value: 0.12044\n",
      "Не получилось отвергнуть нулевую гипотезу\n"
     ]
    }
   ],
   "source": [
    "# конверсия из экрана корзины в завершение оплаты\n",
    "test_conversion(group_A_246_count, group_A_247_count, 'MainScreenAppear', 'PaymentScreenSuccessful')"
   ]
  },
  {
   "cell_type": "markdown",
   "metadata": {},
   "source": [
    "P-value больше 5%, статистически значимых отличий в конверсиях между выборками нет."
   ]
  },
  {
   "cell_type": "markdown",
   "metadata": {},
   "source": [
    "### Гипотеза о равенстве долей пользователей, совершивших событие к общему числу пользователей (А/А-тест)"
   ]
  },
  {
   "cell_type": "code",
   "execution_count": 51,
   "metadata": {},
   "outputs": [],
   "source": [
    "def test_success(group1, group2, event_name):\n",
    "    alpha = .05 # критический уровень статистической значимости\n",
    "    # число успехов \n",
    "    successes1 = group1.loc[group1['event_name'] == event_name]['user_id'].nunique()\n",
    "    successes2 = group2.loc[group2['event_name'] == event_name]['user_id'].nunique()\n",
    "    # число попыток\n",
    "    trials1 = group1['user_id'].nunique()\n",
    "    trials2 = group2['user_id'].nunique()\n",
    "    results = proportions_ztest([successes1, successes2], [trials1, trials2])\n",
    "    print('p-value: {:.5f}'.format(results[1]))\n",
    "    if (results[1] < alpha):\n",
    "        print(\"Отвергаем нулевую гипотезу\")\n",
    "    else:\n",
    "        print(\"Не получилось отвергнуть нулевую гипотезу\")"
   ]
  },
  {
   "cell_type": "markdown",
   "metadata": {},
   "source": [
    "Гипотеза. Доля пользователей, совершивших событие MainScreenAppear (открытие главного экрана) к общему числу пользователей в контрольных группах 246 и 247 равны. <br>\n",
    "HO: Доля пользователей, совершивших событие MainScreenAppear (открытие главного экрана) к общему числу пользователей в контрольных группах 246 и 247 равны. <br>\n",
    "Н1: Доля пользователей, совершивших событие MainScreenAppear (открытие главного экрана) к общему числу пользователей в контрольных группах 246 и 247 не равны. <br>"
   ]
  },
  {
   "cell_type": "code",
   "execution_count": 52,
   "metadata": {},
   "outputs": [
    {
     "name": "stdout",
     "output_type": "stream",
     "text": [
      "p-value: 0.75267\n",
      "Не получилось отвергнуть нулевую гипотезу\n"
     ]
    }
   ],
   "source": [
    "test_success(group_A_246, group_A_247, 'MainScreenAppear')"
   ]
  },
  {
   "cell_type": "markdown",
   "metadata": {},
   "source": [
    "Гипотеза. Доля пользователей, совершивших событие OffersScreenAppear (открытие экрана предложения) к общему числу пользователей в контрольных группах 246 и 247 равны. <br>\n",
    "HO: Доля пользователей, совершивших событие OffersScreenAppear (открытие экрана предложения) к общему числу пользователей в контрольных группах 246 и 247 равны. <br>\n",
    "Н1: Доля пользователей, совершивших событие OffersScreenAppear (открытие экрана предложения) к общему числу пользователей в контрольных группах 246 и 247 не равны. <br>"
   ]
  },
  {
   "cell_type": "code",
   "execution_count": 53,
   "metadata": {},
   "outputs": [
    {
     "name": "stdout",
     "output_type": "stream",
     "text": [
      "p-value: 0.24786\n",
      "Не получилось отвергнуть нулевую гипотезу\n"
     ]
    }
   ],
   "source": [
    "test_success(group_A_246, group_A_247, 'OffersScreenAppear')"
   ]
  },
  {
   "cell_type": "markdown",
   "metadata": {},
   "source": [
    "Гипотеза. Доля пользователей, совершивших событие CartScreenAppear (открытие экрана корзины) к общему числу пользователей в контрольных группах 246 и 247 равны. <br>\n",
    "HO: Доля пользователей, совершивших событие CartScreenAppear (открытие экрана корзины) к общему числу пользователей в контрольных группах 246 и 247 равны. <br>\n",
    "Н1: Доля пользователей, совершивших событие CartScreenAppear (открытие экрана корзины) к общему числу пользователей в контрольных группах 246 и 247 не равны. <br>"
   ]
  },
  {
   "cell_type": "code",
   "execution_count": 54,
   "metadata": {},
   "outputs": [
    {
     "name": "stdout",
     "output_type": "stream",
     "text": [
      "p-value: 0.22868\n",
      "Не получилось отвергнуть нулевую гипотезу\n"
     ]
    }
   ],
   "source": [
    "test_success(group_A_246, group_A_247, 'CartScreenAppear')"
   ]
  },
  {
   "cell_type": "markdown",
   "metadata": {},
   "source": [
    "Гипотеза. Доля пользователей, совершивших событие PaymentScreenSuccessful (завершение оплаты) к общему числу пользователей в контрольных группах 246 и 247 равны. <br>\n",
    "HO: Доля пользователей, совершивших событие PaymentScreenSuccessful (завершение оплаты) к общему числу пользователей в контрольных группах 246 и 247 равны. <br>\n",
    "Н1: Доля пользователей, совершивших событие PaymentScreenSuccessful (завершение оплаты) к общему числу пользователей в контрольных группах 246 и 247 не равны. <br>"
   ]
  },
  {
   "cell_type": "code",
   "execution_count": 55,
   "metadata": {},
   "outputs": [
    {
     "name": "stdout",
     "output_type": "stream",
     "text": [
      "p-value: 0.11447\n",
      "Не получилось отвергнуть нулевую гипотезу\n"
     ]
    }
   ],
   "source": [
    "test_success(group_A_246, group_A_247, 'PaymentScreenSuccessful')"
   ]
  },
  {
   "cell_type": "markdown",
   "metadata": {},
   "source": [
    "P-value больше 5%, статистически значимых отличий в долях между выборками нет."
   ]
  },
  {
   "cell_type": "markdown",
   "metadata": {},
   "source": [
    "###  Гипотеза о равенстве долей пользователей, совершивших событие к общему числу пользователей (А/В-тест)"
   ]
  },
  {
   "cell_type": "markdown",
   "metadata": {},
   "source": [
    "Гипотеза. Доля пользователей, совершивших событие MainScreenAppear (открытие главного экрана) к общему числу пользователей в контрольной группе 246 и экспериментальной группе 248 равны. <br>\n",
    "HO: Доля пользователей, совершивших событие MainScreenAppear (открытие главного экрана) к общему числу пользователей в контрольной группе 246 и экспериментальной группе 248 равны. <br>\n",
    "Н1: Доля пользователей, совершивших событие MainScreenAppear (открытие главного экрана) к общему числу пользователей в контрольной группе 246 и экспериментальной группе 248 не равны. <br>"
   ]
  },
  {
   "cell_type": "code",
   "execution_count": 56,
   "metadata": {},
   "outputs": [
    {
     "name": "stdout",
     "output_type": "stream",
     "text": [
      "p-value: 0.33871\n",
      "Не получилось отвергнуть нулевую гипотезу\n"
     ]
    }
   ],
   "source": [
    "test_success(group_A_246, group_B_248, 'MainScreenAppear')"
   ]
  },
  {
   "cell_type": "markdown",
   "metadata": {},
   "source": [
    "Гипотеза. Доля пользователей, совершивших событие OffersScreenAppear (открытие экрана предложения) к общему числу пользователей в контрольной группе 246 и экспериментальной группе 248 равны. <br>\n",
    "HO: Доля пользователей, совершивших событие OffersScreenAppear (открытие экрана предложения) к общему числу пользователей в контрольной группе 246 и экспериментальной группе 248 равны. <br>\n",
    "Н1: Доля пользователей, совершивших событие OffersScreenAppear (открытие экрана предложения) к общему числу пользователей в контрольной группе 246 и экспериментальной группе 248 не равны. <br>"
   ]
  },
  {
   "cell_type": "code",
   "execution_count": 57,
   "metadata": {},
   "outputs": [
    {
     "name": "stdout",
     "output_type": "stream",
     "text": [
      "p-value: 0.21442\n",
      "Не получилось отвергнуть нулевую гипотезу\n"
     ]
    }
   ],
   "source": [
    "test_success(group_A_246, group_B_248, 'OffersScreenAppear')"
   ]
  },
  {
   "cell_type": "markdown",
   "metadata": {},
   "source": [
    "Гипотеза. Доля пользователей, совершивших событие CartScreenAppear (открытие экрана корзины) к общему числу пользователей в контрольной группе 246 и экспериментальной группе 248 равны. <br>\n",
    "HO: Доля пользователей, совершивших событие CartScreenAppear (открытие экрана корзины) к общему числу пользователей в контрольной группе 246 и экспериментальной группе 248 равны. <br>\n",
    "Н1: Доля пользователей, совершивших событие CartScreenAppear (открытие экрана корзины) к общему числу пользователей в контрольной группе 246 и экспериментальной группе 248 не равны. <br>"
   ]
  },
  {
   "cell_type": "code",
   "execution_count": 58,
   "metadata": {},
   "outputs": [
    {
     "name": "stdout",
     "output_type": "stream",
     "text": [
      "p-value: 0.08067\n",
      "Не получилось отвергнуть нулевую гипотезу\n"
     ]
    }
   ],
   "source": [
    "test_success(group_A_246, group_B_248, 'CartScreenAppear')"
   ]
  },
  {
   "cell_type": "markdown",
   "metadata": {},
   "source": [
    "Гипотеза. Доля пользователей, совершивших событие PaymentScreenSuccessful (завершение оплаты) к общему числу пользователей в контрольной группе 246 и экспериментальной группе 248 равны. <br>\n",
    "HO: Доля пользователей, совершивших событие PaymentScreenSuccessful (завершение оплаты) к общему числу пользователей в контрольной группе 246 и экспериментальной группе 248 равны. <br>\n",
    "Н1: Доля пользователей, совершивших событие PaymentScreenSuccessful (завершение оплаты) к общему числу пользователей в контрольной группе 246 и экспериментальной группе 248 не равны. <br>"
   ]
  },
  {
   "cell_type": "code",
   "execution_count": 59,
   "metadata": {},
   "outputs": [
    {
     "name": "stdout",
     "output_type": "stream",
     "text": [
      "p-value: 0.21693\n",
      "Не получилось отвергнуть нулевую гипотезу\n"
     ]
    }
   ],
   "source": [
    "test_success(group_A_246, group_B_248, 'PaymentScreenSuccessful')"
   ]
  },
  {
   "cell_type": "markdown",
   "metadata": {},
   "source": [
    "Гипотеза. Доля пользователей, совершивших событие MainScreenAppear (открытие главного экрана) к общему числу пользователей в контрольной группе 247 и экспериментальной группе 248 равны. <br>\n",
    "HO: Доля пользователей, совершивших событие MainScreenAppear (открытие главного экрана) к общему числу пользователей в контрольной группе 247 и экспериментальной группе 248 равны. <br>\n",
    "Н1: Доля пользователей, совершивших событие MainScreenAppear (открытие главного экрана) к общему числу пользователей в контрольной группе 247 и экспериментальной группе 248 не равны. <br>"
   ]
  },
  {
   "cell_type": "code",
   "execution_count": 60,
   "metadata": {},
   "outputs": [
    {
     "name": "stdout",
     "output_type": "stream",
     "text": [
      "p-value: 0.51950\n",
      "Не получилось отвергнуть нулевую гипотезу\n"
     ]
    }
   ],
   "source": [
    "test_success(group_A_247, group_B_248, 'MainScreenAppear')"
   ]
  },
  {
   "cell_type": "markdown",
   "metadata": {},
   "source": [
    "Гипотеза. Доля пользователей, совершивших событие OffersScreenAppear (открытие экрана предложения) к общему числу пользователей в контрольной группе 247 и экспериментальной группе 248 равны. <br>\n",
    "HO: Доля пользователей, совершивших событие OffersScreenAppear (открытие экрана предложения) к общему числу пользователей в контрольной группе 247 и экспериментальной группе 248 равны. <br>\n",
    "Н1: Доля пользователей, совершивших событие OffersScreenAppear (открытие экрана предложения) к общему числу пользователей в контрольной группе 247 и экспериментальной группе 248 не равны. <br>"
   ]
  },
  {
   "cell_type": "code",
   "execution_count": 61,
   "metadata": {},
   "outputs": [
    {
     "name": "stdout",
     "output_type": "stream",
     "text": [
      "p-value: 0.93338\n",
      "Не получилось отвергнуть нулевую гипотезу\n"
     ]
    }
   ],
   "source": [
    "test_success(group_A_247, group_B_248, 'OffersScreenAppear')"
   ]
  },
  {
   "cell_type": "markdown",
   "metadata": {},
   "source": [
    "Гипотеза. Доля пользователей, совершивших событие CartScreenAppear (открытие экрана корзины) к общему числу пользователей в контрольной группе 247 и экспериментальной группе 248 равны. <br>\n",
    "HO: Доля пользователей, совершивших событие CartScreenAppear (открытие экрана корзины) к общему числу пользователей в контрольной группе 247 и экспериментальной группе 248 равны. <br>\n",
    "Н1: Доля пользователей, совершивших событие CartScreenAppear (открытие экрана корзины) к общему числу пользователей в контрольной группе 247 и экспериментальной группе 248 не равны. <br>"
   ]
  },
  {
   "cell_type": "code",
   "execution_count": 62,
   "metadata": {},
   "outputs": [
    {
     "name": "stdout",
     "output_type": "stream",
     "text": [
      "p-value: 0.58783\n",
      "Не получилось отвергнуть нулевую гипотезу\n"
     ]
    }
   ],
   "source": [
    "test_success(group_A_247, group_B_248, 'CartScreenAppear')"
   ]
  },
  {
   "cell_type": "markdown",
   "metadata": {},
   "source": [
    "Гипотеза. Доля пользователей, совершивших событие PaymentScreenSuccessful (завершение оплаты) к общему числу пользователей в контрольной группе 247 и экспериментальной группе 248 равны. <br>\n",
    "HO: Доля пользователей, совершивших событие PaymentScreenSuccessful (завершение оплаты) к общему числу пользователей в контрольной группе 247 и экспериментальной группе 248 равны. <br>\n",
    "Н1: Доля пользователей, совершивших событие PaymentScreenSuccessful (завершение оплаты) к общему числу пользователей в контрольной группе 247 и экспериментальной группе 248 не равны. <br>"
   ]
  },
  {
   "cell_type": "code",
   "execution_count": 63,
   "metadata": {},
   "outputs": [
    {
     "name": "stdout",
     "output_type": "stream",
     "text": [
      "p-value: 0.72757\n",
      "Не получилось отвергнуть нулевую гипотезу\n"
     ]
    }
   ],
   "source": [
    "test_success(group_A_247, group_B_248, 'PaymentScreenSuccessful')"
   ]
  },
  {
   "cell_type": "markdown",
   "metadata": {},
   "source": [
    "Гипотеза. Доля пользователей, совершивших событие PaymentScreenSuccessful (завершение оплаты) к общему числу пользователей в контрольной группе 247 и экспериментальной группе 248 равны. <br>\n",
    "HO: Доля пользователей, совершивших событие PaymentScreenSuccessful (завершение оплаты) к общему числу пользователей в контрольной группе 247 и экспериментальной группе 248 равны. <br>\n",
    "Н1: Доля пользователей, совершивших событие PaymentScreenSuccessful (завершение оплаты) к общему числу пользователей в контрольной группе 247 и экспериментальной группе 248 не равны. <br>"
   ]
  },
  {
   "cell_type": "code",
   "execution_count": 64,
   "metadata": {},
   "outputs": [],
   "source": [
    "group_246_and_247 = logs_clean.loc[(logs_clean['exp_id'] == 246) | (logs_clean['exp_id'] == 247)\\\n",
    "                                   & (logs_clean['event_name'] != 'Tutorial')]"
   ]
  },
  {
   "cell_type": "markdown",
   "metadata": {},
   "source": [
    "Гипотеза. Доля пользователей, совершивших событие MainScreenAppear (открытие главного экрана) к общему числу пользователей в объединенной контрольной группе (246 и 247) и экспериментальной группе 248 равны. <br>\n",
    "HO: Доля пользователей, совершивших событие MainScreenAppear (открытие главного экрана) к общему числу пользователей в объединенной контрольной группе (246 и 247) и экспериментальной группе 248 равны. <br>\n",
    "Н1: Доля пользователей, совершивших событие MainScreenAppear (открытие главного экрана) к общему числу пользователей в объединенной контрольной группе (246 и 247) и экспериментальной группе 248 не равны. <br>"
   ]
  },
  {
   "cell_type": "code",
   "execution_count": 65,
   "metadata": {},
   "outputs": [
    {
     "name": "stdout",
     "output_type": "stream",
     "text": [
      "p-value: 0.34867\n",
      "Не получилось отвергнуть нулевую гипотезу\n"
     ]
    }
   ],
   "source": [
    "test_success(group_246_and_247, group_B_248, 'MainScreenAppear')"
   ]
  },
  {
   "cell_type": "markdown",
   "metadata": {},
   "source": [
    "Гипотеза. Доля пользователей, совершивших событие OffersScreenAppear (открытие экрана предложения) к общему числу пользователей в объединенной контрольной группе (246 и 247) и экспериментальной группе 248 равны. <br>\n",
    "HO: Доля пользователей, совершивших событие OffersScreenAppear (открытие экрана предложения) к общему числу пользователей в объединенной контрольной группе (246 и 247) и экспериментальной группе 248 равны. <br>\n",
    "Н1: Доля пользователей, совершивших событие OffersScreenAppear (открытие экрана предложения) к общему числу пользователей в объединенной контрольной группе (246 и 247) и экспериментальной группе 248 не равны. <br>"
   ]
  },
  {
   "cell_type": "code",
   "execution_count": 66,
   "metadata": {},
   "outputs": [
    {
     "name": "stdout",
     "output_type": "stream",
     "text": [
      "p-value: 0.44583\n",
      "Не получилось отвергнуть нулевую гипотезу\n"
     ]
    }
   ],
   "source": [
    "test_success(group_246_and_247, group_B_248, 'OffersScreenAppear')"
   ]
  },
  {
   "cell_type": "markdown",
   "metadata": {},
   "source": [
    "Гипотеза. Доля пользователей, совершивших событие CartScreenAppear (открытие экрана корзины) к общему числу пользователей в объединенной контрольной группе (246 и 247) и экспериментальной группе 248 равны. <br>\n",
    "HO: Доля пользователей, совершивших событие CartScreenAppear (открытие экрана корзины) к общему числу пользователей в объединенной контрольной группе (246 и 247) и экспериментальной группе 248 равны. <br>\n",
    "Н1: Доля пользователей, совершивших событие CartScreenAppear (открытие экрана корзины) к общему числу пользователей в объединенной контрольной группе (246 и 247) и экспериментальной группе 248 не равны. <br>"
   ]
  },
  {
   "cell_type": "code",
   "execution_count": 67,
   "metadata": {},
   "outputs": [
    {
     "name": "stdout",
     "output_type": "stream",
     "text": [
      "p-value: 0.18684\n",
      "Не получилось отвергнуть нулевую гипотезу\n"
     ]
    }
   ],
   "source": [
    "test_success(group_246_and_247, group_B_248, 'CartScreenAppear')"
   ]
  },
  {
   "cell_type": "markdown",
   "metadata": {},
   "source": [
    "Гипотеза. Доля пользователей, совершивших событие PaymentScreenSuccessful (завершение оплаты) к общему числу пользователей в объединенной контрольной группе (246 и 247) и экспериментальной группе 248 равны. <br>\n",
    "HO: Доля пользователей, совершивших событие PaymentScreenSuccessful (завершение оплаты) к общему числу пользователей в объединенной контрольной группе (246 и 247) и экспериментальной группе 248 равны. <br>\n",
    "Н1: Доля пользователей, совершивших событие PaymentScreenSuccessful (завершение оплаты) к общему числу пользователей в объединенной контрольной группе (246 и 247) и экспериментальной группе 248 не равны. <br>"
   ]
  },
  {
   "cell_type": "code",
   "execution_count": 68,
   "metadata": {},
   "outputs": [
    {
     "name": "stdout",
     "output_type": "stream",
     "text": [
      "p-value: 0.61079\n",
      "Не получилось отвергнуть нулевую гипотезу\n"
     ]
    }
   ],
   "source": [
    "test_success(group_246_and_247, group_B_248, 'PaymentScreenSuccessful')"
   ]
  },
  {
   "cell_type": "markdown",
   "metadata": {},
   "source": [
    "P-value больше 5%, статистически значимых отличий в долях между выборками нет."
   ]
  },
  {
   "cell_type": "markdown",
   "metadata": {},
   "source": [
    "### Выбор уровня значимости при проверке статистических гипотез"
   ]
  },
  {
   "cell_type": "markdown",
   "metadata": {},
   "source": [
    "Всего было проведено 16 тестов по проверке гипотезы о равенстве долей пользователей, совершивших событие к общему числу пользователей:\n",
    " - 4 А/А-теста \n",
    " - 12 A/B-тестов "
   ]
  },
  {
   "cell_type": "code",
   "execution_count": 69,
   "metadata": {},
   "outputs": [],
   "source": [
    "# изменим уровень статистической значимости с помощью поправки Бонферрони\n",
    "def test_success_with_bonferroni(group1, group2, event_name):\n",
    "    alpha = .05 # критический уровень статистической значимости\n",
    "    # число успехов \n",
    "    successes1 = group1.loc[group1['event_name'] == event_name]['user_id'].nunique()\n",
    "    successes2 = group2.loc[group2['event_name'] == event_name]['user_id'].nunique()\n",
    "    # число попыток\n",
    "    trials1 = group1['user_id'].nunique()\n",
    "    trials2 = group2['user_id'].nunique()\n",
    "    results = proportions_ztest([successes1, successes2], [trials1, trials2])\n",
    "    print('p-value: {:.5f}'.format(results[1]))\n",
    "    bonferroni_alpha = alpha / 16 \n",
    "    if (results[1] < bonferroni_alpha):\n",
    "        print(\"Отвергаем нулевую гипотезу\")\n",
    "    else:\n",
    "        print(\"Не получилось отвергнуть нулевую гипотезу\")"
   ]
  },
  {
   "cell_type": "markdown",
   "metadata": {},
   "source": [
    "Гипотеза. Доля пользователей, совершивших исследуемое событие к общему числу пользователей в  группах равны. <br>\n",
    "HO: Доля пользователей, совершивших исследуемое событие к общему числу пользователей в группах равны. <br>\n",
    "Н1: Доля пользователей, совершивших исследуемое событие к общему числу пользователей в группах не равны."
   ]
  },
  {
   "cell_type": "code",
   "execution_count": 70,
   "metadata": {},
   "outputs": [
    {
     "name": "stdout",
     "output_type": "stream",
     "text": [
      "p-value: 0.75267\n",
      "Не получилось отвергнуть нулевую гипотезу\n"
     ]
    }
   ],
   "source": [
    "test_success_with_bonferroni(group_A_246, group_A_247, 'MainScreenAppear')"
   ]
  },
  {
   "cell_type": "code",
   "execution_count": 71,
   "metadata": {},
   "outputs": [
    {
     "name": "stdout",
     "output_type": "stream",
     "text": [
      "p-value: 0.24786\n",
      "Не получилось отвергнуть нулевую гипотезу\n"
     ]
    }
   ],
   "source": [
    "test_success_with_bonferroni(group_A_246, group_A_247, 'OffersScreenAppear')"
   ]
  },
  {
   "cell_type": "code",
   "execution_count": 72,
   "metadata": {},
   "outputs": [
    {
     "name": "stdout",
     "output_type": "stream",
     "text": [
      "p-value: 0.22868\n",
      "Не получилось отвергнуть нулевую гипотезу\n"
     ]
    }
   ],
   "source": [
    "test_success_with_bonferroni(group_A_246, group_A_247, 'CartScreenAppear')"
   ]
  },
  {
   "cell_type": "code",
   "execution_count": 73,
   "metadata": {},
   "outputs": [
    {
     "name": "stdout",
     "output_type": "stream",
     "text": [
      "p-value: 0.11447\n",
      "Не получилось отвергнуть нулевую гипотезу\n"
     ]
    }
   ],
   "source": [
    "test_success_with_bonferroni(group_A_246, group_A_247, 'PaymentScreenSuccessful')"
   ]
  },
  {
   "cell_type": "code",
   "execution_count": 74,
   "metadata": {},
   "outputs": [
    {
     "name": "stdout",
     "output_type": "stream",
     "text": [
      "p-value: 0.33871\n",
      "Не получилось отвергнуть нулевую гипотезу\n"
     ]
    }
   ],
   "source": [
    "test_success_with_bonferroni(group_A_246, group_B_248, 'MainScreenAppear')"
   ]
  },
  {
   "cell_type": "code",
   "execution_count": 75,
   "metadata": {},
   "outputs": [
    {
     "name": "stdout",
     "output_type": "stream",
     "text": [
      "p-value: 0.21442\n",
      "Не получилось отвергнуть нулевую гипотезу\n"
     ]
    }
   ],
   "source": [
    "test_success_with_bonferroni(group_A_246, group_B_248, 'OffersScreenAppear')"
   ]
  },
  {
   "cell_type": "code",
   "execution_count": 76,
   "metadata": {},
   "outputs": [
    {
     "name": "stdout",
     "output_type": "stream",
     "text": [
      "p-value: 0.08067\n",
      "Не получилось отвергнуть нулевую гипотезу\n"
     ]
    }
   ],
   "source": [
    "test_success_with_bonferroni(group_A_246, group_B_248, 'CartScreenAppear')"
   ]
  },
  {
   "cell_type": "code",
   "execution_count": 77,
   "metadata": {},
   "outputs": [
    {
     "name": "stdout",
     "output_type": "stream",
     "text": [
      "p-value: 0.21693\n",
      "Не получилось отвергнуть нулевую гипотезу\n"
     ]
    }
   ],
   "source": [
    "test_success_with_bonferroni(group_A_246, group_B_248, 'PaymentScreenSuccessful')"
   ]
  },
  {
   "cell_type": "code",
   "execution_count": 78,
   "metadata": {},
   "outputs": [
    {
     "name": "stdout",
     "output_type": "stream",
     "text": [
      "p-value: 0.51950\n",
      "Не получилось отвергнуть нулевую гипотезу\n"
     ]
    }
   ],
   "source": [
    "test_success_with_bonferroni(group_A_247, group_B_248, 'MainScreenAppear')"
   ]
  },
  {
   "cell_type": "code",
   "execution_count": 79,
   "metadata": {},
   "outputs": [
    {
     "name": "stdout",
     "output_type": "stream",
     "text": [
      "p-value: 0.93338\n",
      "Не получилось отвергнуть нулевую гипотезу\n"
     ]
    }
   ],
   "source": [
    "test_success_with_bonferroni(group_A_247, group_B_248, 'OffersScreenAppear')"
   ]
  },
  {
   "cell_type": "code",
   "execution_count": 80,
   "metadata": {},
   "outputs": [
    {
     "name": "stdout",
     "output_type": "stream",
     "text": [
      "p-value: 0.58783\n",
      "Не получилось отвергнуть нулевую гипотезу\n"
     ]
    }
   ],
   "source": [
    "test_success_with_bonferroni(group_A_247, group_B_248, 'CartScreenAppear')"
   ]
  },
  {
   "cell_type": "code",
   "execution_count": 81,
   "metadata": {},
   "outputs": [
    {
     "name": "stdout",
     "output_type": "stream",
     "text": [
      "p-value: 0.72757\n",
      "Не получилось отвергнуть нулевую гипотезу\n"
     ]
    }
   ],
   "source": [
    "test_success_with_bonferroni(group_A_247, group_B_248, 'PaymentScreenSuccessful')"
   ]
  },
  {
   "cell_type": "code",
   "execution_count": 82,
   "metadata": {},
   "outputs": [
    {
     "name": "stdout",
     "output_type": "stream",
     "text": [
      "p-value: 0.34867\n",
      "Не получилось отвергнуть нулевую гипотезу\n"
     ]
    }
   ],
   "source": [
    "test_success_with_bonferroni(group_246_and_247, group_B_248, 'MainScreenAppear')"
   ]
  },
  {
   "cell_type": "code",
   "execution_count": 83,
   "metadata": {},
   "outputs": [
    {
     "name": "stdout",
     "output_type": "stream",
     "text": [
      "p-value: 0.44583\n",
      "Не получилось отвергнуть нулевую гипотезу\n"
     ]
    }
   ],
   "source": [
    "test_success_with_bonferroni(group_246_and_247, group_B_248, 'OffersScreenAppear')"
   ]
  },
  {
   "cell_type": "code",
   "execution_count": 84,
   "metadata": {},
   "outputs": [
    {
     "name": "stdout",
     "output_type": "stream",
     "text": [
      "p-value: 0.18684\n",
      "Не получилось отвергнуть нулевую гипотезу\n"
     ]
    }
   ],
   "source": [
    "test_success_with_bonferroni(group_246_and_247, group_B_248, 'CartScreenAppear')"
   ]
  },
  {
   "cell_type": "code",
   "execution_count": 85,
   "metadata": {},
   "outputs": [
    {
     "name": "stdout",
     "output_type": "stream",
     "text": [
      "p-value: 0.61079\n",
      "Не получилось отвергнуть нулевую гипотезу\n"
     ]
    }
   ],
   "source": [
    "test_success_with_bonferroni(group_246_and_247, group_B_248, 'PaymentScreenSuccessful')"
   ]
  },
  {
   "cell_type": "markdown",
   "metadata": {},
   "source": [
    "Статистически значимых отличий в долях между выборками нет."
   ]
  },
  {
   "cell_type": "markdown",
   "metadata": {},
   "source": [
    "## Общий вывод\n",
    "1. Всего 5 типов событий в логе:\n",
    " - MainScreenAppear - главный экран,\n",
    " - OffersScreenAppear - экран предложения,\n",
    " - CartScreenAppear - экран корзины,\n",
    " - PaymentScreenSuccessful - успешное завершение оплаты,\n",
    " - Tutorial - руководство\n",
    "2. Общая сумма событий в логе: 243713\n",
    "3. Всего пользователей в логе: 7551\n",
    "4. Анализ проводили по периоду 01.08.2019 - 07.08.2019.\n",
    "5. Знакомство с сервисом у пользователя начинается с главной страницы. Затем пользователь попадает на экран предложения, а затем на экран корзины. После успешного завершения оплаты пользователь попадает на страницу с руководством. Обучение часто пропускают. Все события, кроме обучения, выстраиваются в последовательную цепочку. Можно предположить, что интерфейс продукта доступен и интуитивно понятен пользователям. Этап обучения не будем включать в нашу воронку.\n",
    "6. Больше всего пользователей теряем на главном экране (~38% пользователей).\n",
    "7. От посещения главного экрана до успешной оплаты доходит 47,7% пользователей.\n",
    "8. При проведении анализа не выявлено статистически значимых отличий в конверсиях и долях между контрольными выборками. Проведение А/В тестирования показало, что нет статистически значимых отличий в долях между: \n",
    " - контрольной группой 246 и экспериментальной 248, \n",
    " - контрольной группой 247 и экспериментальной 248,\n",
    " - объединённой контрольной группой (246+247) и экспериментальной 248.\n",
    " \n",
    "Нет оснований утверждать, что изменение шрифта влияет на пользователей."
   ]
  }
 ],
 "metadata": {
  "kernelspec": {
   "display_name": "Python 3",
   "language": "python",
   "name": "python3"
  },
  "language_info": {
   "codemirror_mode": {
    "name": "ipython",
    "version": 3
   },
   "file_extension": ".py",
   "mimetype": "text/x-python",
   "name": "python",
   "nbconvert_exporter": "python",
   "pygments_lexer": "ipython3",
   "version": "3.7.6"
  },
  "toc": {
   "base_numbering": 1,
   "nav_menu": {},
   "number_sections": true,
   "sideBar": true,
   "skip_h1_title": true,
   "title_cell": "Содержание",
   "title_sidebar": "Содержание",
   "toc_cell": true,
   "toc_position": {
    "height": "calc(100% - 180px)",
    "left": "10px",
    "top": "150px",
    "width": "289.6px"
   },
   "toc_section_display": true,
   "toc_window_display": false
  }
 },
 "nbformat": 4,
 "nbformat_minor": 2
}
